{
 "cells": [
  {
   "cell_type": "markdown",
   "metadata": {
    "collapsed": false
   },
   "source": [
    "# Load data"
   ]
  },
  {
   "cell_type": "code",
   "execution_count": null,
   "metadata": {
    "collapsed": true
   },
   "outputs": [],
   "source": [
    "import pandas as pd\n",
    "import numpy as np\n",
    "%pylab inline"
   ]
  },
  {
   "cell_type": "code",
   "execution_count": 69,
   "metadata": {
    "collapsed": false
   },
   "outputs": [
    {
     "data": {
      "text/html": [
       "<div>\n",
       "<table border=\"1\" class=\"dataframe\">\n",
       "  <thead>\n",
       "    <tr style=\"text-align: right;\">\n",
       "      <th></th>\n",
       "      <th>age</th>\n",
       "      <th>female</th>\n",
       "      <th>flu_season</th>\n",
       "      <th>ed_admit</th>\n",
       "      <th>severity score</th>\n",
       "      <th>comorbidity score</th>\n",
       "      <th>readmit30</th>\n",
       "    </tr>\n",
       "  </thead>\n",
       "  <tbody>\n",
       "    <tr>\n",
       "      <th>0</th>\n",
       "      <td>100</td>\n",
       "      <td>1</td>\n",
       "      <td>1</td>\n",
       "      <td>1</td>\n",
       "      <td>38</td>\n",
       "      <td>112</td>\n",
       "      <td>0</td>\n",
       "    </tr>\n",
       "    <tr>\n",
       "      <th>1</th>\n",
       "      <td>83</td>\n",
       "      <td>1</td>\n",
       "      <td>0</td>\n",
       "      <td>1</td>\n",
       "      <td>8</td>\n",
       "      <td>109</td>\n",
       "      <td>1</td>\n",
       "    </tr>\n",
       "  </tbody>\n",
       "</table>\n",
       "</div>"
      ],
      "text/plain": [
       "   age  female  flu_season  ed_admit  severity score  comorbidity score  \\\n",
       "0  100       1           1         1              38                112   \n",
       "1   83       1           0         1               8                109   \n",
       "\n",
       "   readmit30  \n",
       "0          0  \n",
       "1          1  "
      ]
     },
     "execution_count": 69,
     "metadata": {},
     "output_type": "execute_result"
    }
   ],
   "source": [
    "data = pd.read_csv('data.csv')\n",
    "data.head(2)"
   ]
  },
  {
   "cell_type": "code",
   "execution_count": 6,
   "metadata": {
    "collapsed": false
   },
   "outputs": [
    {
     "data": {
      "text/plain": [
       "age                  0\n",
       "female               0\n",
       "flu_season           0\n",
       "ed_admit             0\n",
       "severity score       0\n",
       "comorbidity score    0\n",
       "readmit30            0\n",
       "dtype: int64"
      ]
     },
     "execution_count": 6,
     "metadata": {},
     "output_type": "execute_result"
    }
   ],
   "source": [
    "data.isnull().sum()"
   ]
  },
  {
   "cell_type": "code",
   "execution_count": 7,
   "metadata": {
    "collapsed": true
   },
   "outputs": [],
   "source": [
    "data.columns = [column.replace(' ','_') for column in data.columns]"
   ]
  },
  {
   "cell_type": "code",
   "execution_count": 6,
   "metadata": {
    "collapsed": false,
    "scrolled": true
   },
   "outputs": [
    {
     "data": {
      "text/html": [
       "<div>\n",
       "<table border=\"1\" class=\"dataframe\">\n",
       "  <thead>\n",
       "    <tr style=\"text-align: right;\">\n",
       "      <th></th>\n",
       "      <th>age</th>\n",
       "      <th>female</th>\n",
       "      <th>flu_season</th>\n",
       "      <th>ed_admit</th>\n",
       "      <th>severity_score</th>\n",
       "      <th>comorbidity_score</th>\n",
       "      <th>readmit30</th>\n",
       "    </tr>\n",
       "  </thead>\n",
       "  <tbody>\n",
       "    <tr>\n",
       "      <th>0</th>\n",
       "      <td>100</td>\n",
       "      <td>1</td>\n",
       "      <td>1</td>\n",
       "      <td>1</td>\n",
       "      <td>38</td>\n",
       "      <td>112</td>\n",
       "      <td>0</td>\n",
       "    </tr>\n",
       "    <tr>\n",
       "      <th>1</th>\n",
       "      <td>83</td>\n",
       "      <td>1</td>\n",
       "      <td>0</td>\n",
       "      <td>1</td>\n",
       "      <td>8</td>\n",
       "      <td>109</td>\n",
       "      <td>1</td>\n",
       "    </tr>\n",
       "    <tr>\n",
       "      <th>2</th>\n",
       "      <td>74</td>\n",
       "      <td>0</td>\n",
       "      <td>1</td>\n",
       "      <td>0</td>\n",
       "      <td>1</td>\n",
       "      <td>80</td>\n",
       "      <td>0</td>\n",
       "    </tr>\n",
       "    <tr>\n",
       "      <th>3</th>\n",
       "      <td>66</td>\n",
       "      <td>1</td>\n",
       "      <td>1</td>\n",
       "      <td>1</td>\n",
       "      <td>25</td>\n",
       "      <td>4</td>\n",
       "      <td>0</td>\n",
       "    </tr>\n",
       "    <tr>\n",
       "      <th>4</th>\n",
       "      <td>68</td>\n",
       "      <td>1</td>\n",
       "      <td>1</td>\n",
       "      <td>1</td>\n",
       "      <td>25</td>\n",
       "      <td>32</td>\n",
       "      <td>0</td>\n",
       "    </tr>\n",
       "  </tbody>\n",
       "</table>\n",
       "</div>"
      ],
      "text/plain": [
       "   age  female  flu_season  ed_admit  severity_score  comorbidity_score  \\\n",
       "0  100       1           1         1              38                112   \n",
       "1   83       1           0         1               8                109   \n",
       "2   74       0           1         0               1                 80   \n",
       "3   66       1           1         1              25                  4   \n",
       "4   68       1           1         1              25                 32   \n",
       "\n",
       "   readmit30  \n",
       "0          0  \n",
       "1          1  \n",
       "2          0  \n",
       "3          0  \n",
       "4          0  "
      ]
     },
     "execution_count": 6,
     "metadata": {},
     "output_type": "execute_result"
    }
   ],
   "source": [
    "data.head(5)"
   ]
  },
  {
   "cell_type": "code",
   "execution_count": 7,
   "metadata": {
    "collapsed": false
   },
   "outputs": [
    {
     "data": {
      "text/plain": [
       "0.22774988589685075"
      ]
     },
     "execution_count": 7,
     "metadata": {},
     "output_type": "execute_result"
    }
   ],
   "source": [
    "#Baseline\n",
    "data.readmit30.mean()"
   ]
  },
  {
   "cell_type": "code",
   "execution_count": 8,
   "metadata": {
    "collapsed": false
   },
   "outputs": [
    {
     "data": {
      "text/plain": [
       "0    3384\n",
       "1     998\n",
       "Name: readmit30, dtype: int64"
      ]
     },
     "execution_count": 8,
     "metadata": {},
     "output_type": "execute_result"
    }
   ],
   "source": [
    "# count number per segment\n",
    "data['readmit30'].value_counts()"
   ]
  },
  {
   "cell_type": "markdown",
   "metadata": {},
   "source": [
    "# Fit Classifiers"
   ]
  },
  {
   "cell_type": "code",
   "execution_count": 11,
   "metadata": {
    "collapsed": false
   },
   "outputs": [
    {
     "name": "stdout",
     "output_type": "stream",
     "text": [
      "Populating the interactive namespace from numpy and matplotlib\n"
     ]
    },
    {
     "name": "stderr",
     "output_type": "stream",
     "text": [
      "/Users/Charlotte/anaconda/lib/python3.5/site-packages/sklearn/cross_validation.py:44: DeprecationWarning: This module was deprecated in version 0.18 in favor of the model_selection module into which all the refactored classes and functions are moved. Also note that the interface of the new CV iterators are different from that of this module. This module will be removed in 0.20.\n",
      "  \"This module will be removed in 0.20.\", DeprecationWarning)\n",
      "/Users/Charlotte/anaconda/lib/python3.5/site-packages/sklearn/grid_search.py:43: DeprecationWarning: This module was deprecated in version 0.18 in favor of the model_selection module into which all the refactored classes and functions are moved. This module will be removed in 0.20.\n",
      "  DeprecationWarning)\n"
     ]
    }
   ],
   "source": [
    "%pylab inline\n",
    "\n",
    "import seaborn as sns\n",
    "from collections import Counter\n",
    "from collections import defaultdict\n",
    "from confusion_mat import show_confusion_matrix\n",
    "\n",
    "\n",
    "# Evaluation - Optimization Tools\n",
    "from sklearn.pipeline import Pipeline,make_pipeline\n",
    "from sklearn.model_selection import cross_val_score,train_test_split\n",
    "from sklearn.metrics import accuracy_score, precision_score, recall_score, f1_score, roc_curve, auc,confusion_matrix, classification_report\n",
    "from sklearn.preprocessing import normalize, scale, StandardScaler, Normalizer\n",
    "from sklearn.grid_search import GridSearchCV\n",
    "\n",
    "# Classification Algorithms\n",
    "from sklearn.svm import SVC\n",
    "from sklearn.tree import DecisionTreeClassifier\n",
    "from sklearn.linear_model import LogisticRegression,SGDClassifier\n",
    "from sklearn.ensemble import RandomForestClassifier,AdaBoostClassifier, GradientBoostingClassifier,VotingClassifier"
   ]
  },
  {
   "cell_type": "code",
   "execution_count": 12,
   "metadata": {
    "collapsed": false
   },
   "outputs": [
    {
     "data": {
      "text/html": [
       "<div>\n",
       "<table border=\"1\" class=\"dataframe\">\n",
       "  <thead>\n",
       "    <tr style=\"text-align: right;\">\n",
       "      <th></th>\n",
       "      <th>age</th>\n",
       "      <th>female</th>\n",
       "      <th>flu_season</th>\n",
       "      <th>ed_admit</th>\n",
       "      <th>severity_score</th>\n",
       "      <th>comorbidity_score</th>\n",
       "      <th>readmit30</th>\n",
       "    </tr>\n",
       "  </thead>\n",
       "  <tbody>\n",
       "    <tr>\n",
       "      <th>0</th>\n",
       "      <td>100</td>\n",
       "      <td>1</td>\n",
       "      <td>1</td>\n",
       "      <td>1</td>\n",
       "      <td>38</td>\n",
       "      <td>112</td>\n",
       "      <td>0</td>\n",
       "    </tr>\n",
       "    <tr>\n",
       "      <th>1</th>\n",
       "      <td>83</td>\n",
       "      <td>1</td>\n",
       "      <td>0</td>\n",
       "      <td>1</td>\n",
       "      <td>8</td>\n",
       "      <td>109</td>\n",
       "      <td>1</td>\n",
       "    </tr>\n",
       "    <tr>\n",
       "      <th>2</th>\n",
       "      <td>74</td>\n",
       "      <td>0</td>\n",
       "      <td>1</td>\n",
       "      <td>0</td>\n",
       "      <td>1</td>\n",
       "      <td>80</td>\n",
       "      <td>0</td>\n",
       "    </tr>\n",
       "    <tr>\n",
       "      <th>3</th>\n",
       "      <td>66</td>\n",
       "      <td>1</td>\n",
       "      <td>1</td>\n",
       "      <td>1</td>\n",
       "      <td>25</td>\n",
       "      <td>4</td>\n",
       "      <td>0</td>\n",
       "    </tr>\n",
       "    <tr>\n",
       "      <th>4</th>\n",
       "      <td>68</td>\n",
       "      <td>1</td>\n",
       "      <td>1</td>\n",
       "      <td>1</td>\n",
       "      <td>25</td>\n",
       "      <td>32</td>\n",
       "      <td>0</td>\n",
       "    </tr>\n",
       "  </tbody>\n",
       "</table>\n",
       "</div>"
      ],
      "text/plain": [
       "   age  female  flu_season  ed_admit  severity_score  comorbidity_score  \\\n",
       "0  100       1           1         1              38                112   \n",
       "1   83       1           0         1               8                109   \n",
       "2   74       0           1         0               1                 80   \n",
       "3   66       1           1         1              25                  4   \n",
       "4   68       1           1         1              25                 32   \n",
       "\n",
       "   readmit30  \n",
       "0          0  \n",
       "1          1  \n",
       "2          0  \n",
       "3          0  \n",
       "4          0  "
      ]
     },
     "execution_count": 12,
     "metadata": {},
     "output_type": "execute_result"
    }
   ],
   "source": [
    "data.head(5)"
   ]
  },
  {
   "cell_type": "code",
   "execution_count": 13,
   "metadata": {
    "collapsed": false
   },
   "outputs": [],
   "source": [
    "X_original = data.drop('readmit30',axis = 1)\n",
    "y_original= data.readmit30\n",
    "X_train_original, X_test_original, y_train_original, y_test_original = train_test_split(X_original,y_original,test_size=0.2)\n",
    "# scale = StandardScaler()\n",
    "# X_train_original = scale.fit_transform(X_train_original)\n",
    "# X_test_original= scale.fit_transform(X_test_original)\n"
   ]
  },
  {
   "cell_type": "code",
   "execution_count": 14,
   "metadata": {
    "collapsed": true
   },
   "outputs": [],
   "source": [
    "def cross_val(models,X_train,y_train):\n",
    "    for model in models:\n",
    "        model.fit(X_train,y_train)\n",
    "        \n",
    "        print(str(model).split('(')[0],'CV:')\n",
    "        print('-- Accuracy:', round((cross_val_score(model, X_train, y_train, cv=5,scoring='accuracy').mean()), 3),\n",
    "              '| Recall:', round(cross_val_score(model, X_train, y_train, cv=5, scoring='recall').mean(), 3),\n",
    "              '| Precision:', round(cross_val_score(model, X_train, y_train, cv=5, scoring='precision').mean(), 3),\n",
    "              '| f1:', round(cross_val_score(model, X_train, y_train, cv=5, scoring='f1').mean(), 3),\n",
    "             '| auc:',round(cross_val_score(model, X_train, y_train, cv=5, scoring= 'roc_auc').mean(), 3))"
   ]
  },
  {
   "cell_type": "code",
   "execution_count": 15,
   "metadata": {
    "collapsed": false
   },
   "outputs": [],
   "source": [
    "clf = [RandomForestClassifier(),GradientBoostingClassifier(),\n",
    "      SVC(),AdaBoostClassifier(),LogisticRegression()]"
   ]
  },
  {
   "cell_type": "code",
   "execution_count": 16,
   "metadata": {
    "collapsed": false
   },
   "outputs": [
    {
     "name": "stdout",
     "output_type": "stream",
     "text": [
      "RandomForestClassifier CV:\n",
      "-- Accuracy: 0.771 | Recall: 0.29 | Precision: 0.516 | f1: 0.368 | auc: 0.706\n",
      "GradientBoostingClassifier CV:\n",
      "-- Accuracy: 0.8 | Recall: 0.306 | Precision: 0.622 | f1: 0.408 | auc: 0.765\n",
      "SVC CV:\n",
      "-- Accuracy: 0.772 | Recall: 0.015 | Precision: 0.438 | f1: 0.029 | auc: 0.648\n",
      "AdaBoostClassifier CV:\n",
      "-- Accuracy: 0.802 | Recall: 0.314 | Precision: 0.629 | f1: 0.416 | auc: 0.765\n",
      "LogisticRegression CV:\n",
      "-- Accuracy: 0.805 | Recall: 0.31 | Precision: 0.644 | f1: 0.417 | auc: 0.779\n"
     ]
    }
   ],
   "source": [
    "cross_val(clf,X_train_original,y_train_original)"
   ]
  },
  {
   "cell_type": "markdown",
   "metadata": {
    "collapsed": true
   },
   "source": [
    "# LogisticRegression &  GradientBoostingClassifier are chosen basing on high score on recall and precision"
   ]
  },
  {
   "cell_type": "code",
   "execution_count": 17,
   "metadata": {
    "collapsed": true
   },
   "outputs": [],
   "source": [
    "def gs_logit(X_train,y_train):\n",
    "\n",
    "    param =  [{'penalty': [\"l1\",\"l2\"],'C': [0.2,0.5,1]}]\n",
    "    grid_search = GridSearchCV(LogisticRegression(), param_grid = param, verbose = 3, cv = 5,n_jobs= -1, scoring = 'recall')\n",
    "    grid_search.fit(X_train, y_train)\n",
    "    output =  [grid_search.best_score_,grid_search.best_params_]\n",
    "    \n",
    "    return output"
   ]
  },
  {
   "cell_type": "code",
   "execution_count": 18,
   "metadata": {
    "collapsed": false,
    "scrolled": true
   },
   "outputs": [
    {
     "name": "stdout",
     "output_type": "stream",
     "text": [
      "Fitting 5 folds for each of 6 candidates, totalling 30 fits\n",
      "[CV] C=0.2, penalty=l1 ...............................................\n",
      "[CV] C=0.2, penalty=l1 ...............................................\n",
      "[CV] C=0.2, penalty=l1 ...............................................\n",
      "[CV] C=0.2, penalty=l1 ...............................................\n",
      "[CV] ...................... C=0.2, penalty=l1, score=0.301887 -   0.1s\n",
      "[CV] C=0.2, penalty=l1 ...............................................\n",
      "[CV] ...................... C=0.2, penalty=l1, score=0.352201 -   0.2s\n",
      "[CV] ...................... C=0.2, penalty=l1, score=0.289308 -   0.2s\n",
      "[CV] C=0.2, penalty=l2 ...............................................\n",
      "[CV] ...................... C=0.2, penalty=l1, score=0.327044 -   0.2s\n",
      "[CV] C=0.2, penalty=l2 ...............................................\n",
      "[CV] C=0.2, penalty=l2 ...............................................\n",
      "[CV] ...................... C=0.2, penalty=l2, score=0.314465 -   0.0s\n",
      "[CV] ...................... C=0.2, penalty=l2, score=0.276730 -   0.0s\n",
      "[CV] C=0.2, penalty=l2 ...............................................\n",
      "[CV] C=0.5, penalty=l1 ...............................................\n",
      "[CV] ...................... C=0.2, penalty=l2, score=0.289308 -   0.0s\n",
      "[CV] C=0.5, penalty=l1 ...............................................\n",
      "[CV] ...................... C=0.2, penalty=l2, score=0.339623 -   0.0s\n",
      "[CV] C=0.2, penalty=l2 ...............................................\n",
      "[CV] ...................... C=0.2, penalty=l2, score=0.246835 -   0.0s\n",
      "[CV] ...................... C=0.2, penalty=l1, score=0.265823 -   0.2s\n",
      "[CV] C=0.5, penalty=l2 ...............................................\n",
      "[CV] C=0.5, penalty=l1 ...............................................\n",
      "[CV] ...................... C=0.5, penalty=l2, score=0.301887 -   0.0s\n",
      "[CV] C=0.5, penalty=l2 ...............................................\n",
      "[CV] ...................... C=0.5, penalty=l1, score=0.289308 -   0.2s\n",
      "[CV] ...................... C=0.5, penalty=l1, score=0.345912 -   0.2s\n",
      "[CV] C=0.5, penalty=l1 ...............................................\n",
      "[CV] ...................... C=0.5, penalty=l2, score=0.289308 -   0.0s\n",
      "[CV] C=0.5, penalty=l1 ...............................................\n",
      "[CV] C=0.5, penalty=l2 ...............................................\n",
      "[CV] ...................... C=0.5, penalty=l1, score=0.265823 -   0.1s\n",
      "[CV] C=0.5, penalty=l2 ...............................................\n",
      "[CV] ...................... C=0.5, penalty=l2, score=0.327044 -   0.1s\n",
      "[CV] C=0.5, penalty=l2 ...............................................\n",
      "[CV] ...................... C=0.5, penalty=l2, score=0.345912 -   0.0s\n",
      "[CV] C=1, penalty=l1 .................................................\n",
      "[CV] ...................... C=0.5, penalty=l1, score=0.320755 -   0.2s\n",
      "[CV] ...................... C=0.5, penalty=l2, score=0.265823 -   0.0s\n",
      "[CV] C=1, penalty=l1 .................................................\n",
      "[CV] C=1, penalty=l1 .................................................\n",
      "[CV] ...................... C=0.5, penalty=l1, score=0.301887 -   0.2s\n",
      "[CV] C=1, penalty=l2 .................................................\n",
      "[CV] ........................ C=1, penalty=l2, score=0.301887 -   0.0s\n",
      "[CV] C=1, penalty=l2 .................................................\n",
      "[CV] ........................ C=1, penalty=l1, score=0.345912 -   0.1s\n",
      "[CV] ........................ C=1, penalty=l1, score=0.289308 -   0.1s\n",
      "[CV] C=1, penalty=l1 .................................................\n",
      "[CV] C=1, penalty=l1 .................................................\n",
      "[CV] ........................ C=1, penalty=l2, score=0.295597 -   0.0s\n",
      "[CV] C=1, penalty=l2 .................................................\n",
      "[CV] ........................ C=1, penalty=l1, score=0.265823 -   0.1s\n",
      "[CV] C=1, penalty=l2 .................................................\n",
      "[CV] ........................ C=1, penalty=l2, score=0.333333 -   0.0s\n",
      "[CV] ........................ C=1, penalty=l2, score=0.345912 -   0.0s\n",
      "[CV] C=1, penalty=l2 .................................................\n",
      "[CV] ........................ C=1, penalty=l2, score=0.272152 -   0.0s\n",
      "[CV] ........................ C=1, penalty=l1, score=0.327044 -   0.1s\n",
      "[CV] ........................ C=1, penalty=l1, score=0.295597 -   0.1s\n"
     ]
    },
    {
     "name": "stderr",
     "output_type": "stream",
     "text": [
      "[Parallel(n_jobs=-1)]: Done  30 out of  30 | elapsed:    0.9s finished\n"
     ]
    }
   ],
   "source": [
    "logit_output = gs_logit(X_train_original,y_train_original)"
   ]
  },
  {
   "cell_type": "code",
   "execution_count": 19,
   "metadata": {
    "collapsed": false
   },
   "outputs": [
    {
     "data": {
      "text/plain": [
       "[0.30979733593359693, {'C': 1, 'penalty': 'l2'}]"
      ]
     },
     "execution_count": 19,
     "metadata": {},
     "output_type": "execute_result"
    }
   ],
   "source": [
    "logit_output"
   ]
  },
  {
   "cell_type": "code",
   "execution_count": 20,
   "metadata": {
    "collapsed": false
   },
   "outputs": [],
   "source": [
    "def gs_gb(X_train,y_train):\n",
    "\n",
    "    param =  [{'learning_rate': [0.1,0.5], 'n_estimators' : [500,600],\n",
    "               \"max_depth\": [5,10,12], 'max_features': [2,4,6]}]\n",
    "    grid_search = GridSearchCV(GradientBoostingClassifier(), param_grid = param, verbose = 3, cv = 5,n_jobs= -1, scoring = 'recall')\n",
    "    grid_search.fit(X_train, y_train)\n",
    "    output =  [grid_search.best_score_,grid_search.best_params_]\n",
    "    \n",
    "    return output"
   ]
  },
  {
   "cell_type": "code",
   "execution_count": 22,
   "metadata": {
    "collapsed": true
   },
   "outputs": [
    {
     "name": "stdout",
     "output_type": "stream",
     "text": [
      "Fitting 5 folds for each of 36 candidates, totalling 180 fits\n",
      "[CV] max_depth=5, max_features=2, learning_rate=0.1, n_estimators=500 \n",
      "[CV] max_depth=5, max_features=2, learning_rate=0.1, n_estimators=500 \n",
      "[CV] max_depth=5, max_features=2, learning_rate=0.1, n_estimators=500 \n",
      "[CV] max_depth=5, max_features=2, learning_rate=0.1, n_estimators=500 \n",
      "[CV]  max_depth=5, max_features=2, learning_rate=0.1, n_estimators=500, score=0.371069 -   2.5s\n",
      "[CV]  max_depth=5, max_features=2, learning_rate=0.1, n_estimators=500, score=0.352201 -   2.5s\n",
      "[CV] max_depth=5, max_features=2, learning_rate=0.1, n_estimators=600 \n",
      "[CV] max_depth=5, max_features=2, learning_rate=0.1, n_estimators=500 \n",
      "[CV]  max_depth=5, max_features=2, learning_rate=0.1, n_estimators=500, score=0.283019 -   2.6s\n",
      "[CV]  max_depth=5, max_features=2, learning_rate=0.1, n_estimators=500, score=0.358491 -   2.6s\n",
      "[CV] max_depth=5, max_features=2, learning_rate=0.1, n_estimators=600 \n",
      "[CV] max_depth=5, max_features=2, learning_rate=0.1, n_estimators=600 \n",
      "[CV]  max_depth=5, max_features=2, learning_rate=0.1, n_estimators=500, score=0.297468 -   2.4s\n",
      "[CV] max_depth=5, max_features=2, learning_rate=0.1, n_estimators=600 \n",
      "[CV]  max_depth=5, max_features=2, learning_rate=0.1, n_estimators=600, score=0.402516 -   3.0s\n",
      "[CV]  max_depth=5, max_features=2, learning_rate=0.1, n_estimators=600, score=0.333333 -   2.9s\n",
      "[CV] max_depth=5, max_features=2, learning_rate=0.1, n_estimators=600 \n",
      "[CV] max_depth=5, max_features=4, learning_rate=0.1, n_estimators=500 \n",
      "[CV]  max_depth=5, max_features=2, learning_rate=0.1, n_estimators=600, score=0.371069 -   3.0s\n",
      "[CV] max_depth=5, max_features=4, learning_rate=0.1, n_estimators=500 \n",
      "[CV]  max_depth=5, max_features=2, learning_rate=0.1, n_estimators=600, score=0.308176 -   3.4s\n",
      "[CV] max_depth=5, max_features=4, learning_rate=0.1, n_estimators=500 \n",
      "[CV]  max_depth=5, max_features=4, learning_rate=0.1, n_estimators=500, score=0.371069 -   3.2s\n",
      "[CV] max_depth=5, max_features=4, learning_rate=0.1, n_estimators=500 \n",
      "[CV]  max_depth=5, max_features=4, learning_rate=0.1, n_estimators=500, score=0.402516 -   3.4s\n",
      "[CV]  max_depth=5, max_features=2, learning_rate=0.1, n_estimators=600, score=0.297468 -   3.4s\n",
      "[CV] max_depth=5, max_features=4, learning_rate=0.1, n_estimators=500 \n",
      "[CV] max_depth=5, max_features=4, learning_rate=0.1, n_estimators=600 \n",
      "[CV]  max_depth=5, max_features=4, learning_rate=0.1, n_estimators=500, score=0.333333 -   2.7s\n",
      "[CV] max_depth=5, max_features=4, learning_rate=0.1, n_estimators=600 \n",
      "[CV]  max_depth=5, max_features=4, learning_rate=0.1, n_estimators=500, score=0.320755 -   2.6s\n",
      "[CV] max_depth=5, max_features=4, learning_rate=0.1, n_estimators=600 \n",
      "[CV]  max_depth=5, max_features=4, learning_rate=0.1, n_estimators=500, score=0.303797 -   2.6s\n",
      "[CV] max_depth=5, max_features=4, learning_rate=0.1, n_estimators=600 \n",
      "[CV]  max_depth=5, max_features=4, learning_rate=0.1, n_estimators=600, score=0.408805 -   3.1s\n",
      "[CV] max_depth=5, max_features=4, learning_rate=0.1, n_estimators=600 \n",
      "[CV]  max_depth=5, max_features=4, learning_rate=0.1, n_estimators=600, score=0.364780 -   2.9s\n",
      "[CV] max_depth=5, max_features=6, learning_rate=0.1, n_estimators=500 \n",
      "[CV]  max_depth=5, max_features=4, learning_rate=0.1, n_estimators=600, score=0.283019 -   3.0s\n",
      "[CV] max_depth=5, max_features=6, learning_rate=0.1, n_estimators=500 \n",
      "[CV]  max_depth=5, max_features=4, learning_rate=0.1, n_estimators=600, score=0.345912 -   3.1s\n",
      "[CV] max_depth=5, max_features=6, learning_rate=0.1, n_estimators=500 \n",
      "[CV]  max_depth=5, max_features=4, learning_rate=0.1, n_estimators=600, score=0.291139 -   3.3s\n",
      "[CV] max_depth=5, max_features=6, learning_rate=0.1, n_estimators=500 \n",
      "[CV]  max_depth=5, max_features=6, learning_rate=0.1, n_estimators=500, score=0.396226 -   3.4s\n",
      "[CV] max_depth=5, max_features=6, learning_rate=0.1, n_estimators=500 \n",
      "[CV]  max_depth=5, max_features=6, learning_rate=0.1, n_estimators=500, score=0.358491 -   3.1s\n",
      "[CV] max_depth=5, max_features=6, learning_rate=0.1, n_estimators=600 \n",
      "[CV]  max_depth=5, max_features=6, learning_rate=0.1, n_estimators=500, score=0.352201 -   3.2s\n",
      "[CV] max_depth=5, max_features=6, learning_rate=0.1, n_estimators=600 \n",
      "[CV]  max_depth=5, max_features=6, learning_rate=0.1, n_estimators=500, score=0.320755 -   2.9s\n",
      "[CV] max_depth=5, max_features=6, learning_rate=0.1, n_estimators=600 \n"
     ]
    },
    {
     "name": "stderr",
     "output_type": "stream",
     "text": [
      "[Parallel(n_jobs=-1)]: Done  24 tasks      | elapsed:   18.5s\n"
     ]
    },
    {
     "name": "stdout",
     "output_type": "stream",
     "text": [
      "[CV]  max_depth=5, max_features=6, learning_rate=0.1, n_estimators=500, score=0.303797 -   3.1s\n",
      "[CV] max_depth=5, max_features=6, learning_rate=0.1, n_estimators=600 \n",
      "[CV]  max_depth=5, max_features=6, learning_rate=0.1, n_estimators=600, score=0.402516 -   3.9s\n",
      "[CV] max_depth=5, max_features=6, learning_rate=0.1, n_estimators=600 \n",
      "[CV]  max_depth=5, max_features=6, learning_rate=0.1, n_estimators=600, score=0.377358 -   3.7s\n",
      "[CV] max_depth=10, max_features=2, learning_rate=0.1, n_estimators=500 \n",
      "[CV]  max_depth=5, max_features=6, learning_rate=0.1, n_estimators=600, score=0.345912 -   3.8s\n",
      "[CV] max_depth=10, max_features=2, learning_rate=0.1, n_estimators=500 \n",
      "[CV]  max_depth=5, max_features=6, learning_rate=0.1, n_estimators=600, score=0.327044 -   3.5s\n",
      "[CV] max_depth=10, max_features=2, learning_rate=0.1, n_estimators=500 \n",
      "[CV]  max_depth=5, max_features=6, learning_rate=0.1, n_estimators=600, score=0.297468 -   3.5s\n",
      "[CV] max_depth=10, max_features=2, learning_rate=0.1, n_estimators=500 \n",
      "[CV]  max_depth=10, max_features=2, learning_rate=0.1, n_estimators=500, score=0.383648 -  10.5s\n",
      "[CV] max_depth=10, max_features=2, learning_rate=0.1, n_estimators=500 \n",
      "[CV]  max_depth=10, max_features=2, learning_rate=0.1, n_estimators=500, score=0.308176 -  10.3s\n",
      "[CV] max_depth=10, max_features=2, learning_rate=0.1, n_estimators=600 \n",
      "[CV]  max_depth=10, max_features=2, learning_rate=0.1, n_estimators=500, score=0.345912 -  10.2s\n",
      "[CV] max_depth=10, max_features=2, learning_rate=0.1, n_estimators=600 \n",
      "[CV]  max_depth=10, max_features=2, learning_rate=0.1, n_estimators=500, score=0.289308 -   9.4s\n",
      "[CV] max_depth=10, max_features=2, learning_rate=0.1, n_estimators=600 \n",
      "[CV]  max_depth=10, max_features=2, learning_rate=0.1, n_estimators=500, score=0.278481 -   9.5s\n",
      "[CV] max_depth=10, max_features=2, learning_rate=0.1, n_estimators=600 \n",
      "[CV]  max_depth=10, max_features=2, learning_rate=0.1, n_estimators=600, score=0.396226 -   9.6s\n",
      "[CV] max_depth=10, max_features=2, learning_rate=0.1, n_estimators=600 \n",
      "[CV]  max_depth=10, max_features=2, learning_rate=0.1, n_estimators=600, score=0.333333 -   9.3s\n",
      "[CV] max_depth=10, max_features=4, learning_rate=0.1, n_estimators=500 \n",
      "[CV]  max_depth=10, max_features=2, learning_rate=0.1, n_estimators=600, score=0.327044 -   9.5s\n",
      "[CV] max_depth=10, max_features=4, learning_rate=0.1, n_estimators=500 \n",
      "[CV]  max_depth=10, max_features=2, learning_rate=0.1, n_estimators=600, score=0.251572 -   8.2s\n",
      "[CV] max_depth=10, max_features=4, learning_rate=0.1, n_estimators=500 \n",
      "[CV]  max_depth=10, max_features=2, learning_rate=0.1, n_estimators=600, score=0.284810 -   9.1s\n",
      "[CV] max_depth=10, max_features=4, learning_rate=0.1, n_estimators=500 \n",
      "[CV]  max_depth=10, max_features=4, learning_rate=0.1, n_estimators=500, score=0.408805 -   8.8s\n",
      "[CV] max_depth=10, max_features=4, learning_rate=0.1, n_estimators=500 \n",
      "[CV]  max_depth=10, max_features=4, learning_rate=0.1, n_estimators=500, score=0.345912 -   8.5s\n",
      "[CV] max_depth=10, max_features=4, learning_rate=0.1, n_estimators=600 \n",
      "[CV]  max_depth=10, max_features=4, learning_rate=0.1, n_estimators=500, score=0.320755 -   9.8s\n",
      "[CV] max_depth=10, max_features=4, learning_rate=0.1, n_estimators=600 \n",
      "[CV]  max_depth=10, max_features=4, learning_rate=0.1, n_estimators=500, score=0.270440 -   9.8s\n",
      "[CV] max_depth=10, max_features=4, learning_rate=0.1, n_estimators=600 \n",
      "[CV]  max_depth=10, max_features=4, learning_rate=0.1, n_estimators=500, score=0.303797 -  11.6s\n",
      "[CV] max_depth=10, max_features=4, learning_rate=0.1, n_estimators=600 \n",
      "[CV]  max_depth=10, max_features=4, learning_rate=0.1, n_estimators=600, score=0.408805 -  12.8s\n",
      "[CV] max_depth=10, max_features=4, learning_rate=0.1, n_estimators=600 \n",
      "[CV]  max_depth=10, max_features=4, learning_rate=0.1, n_estimators=600, score=0.345912 -  11.3s\n",
      "[CV] max_depth=10, max_features=6, learning_rate=0.1, n_estimators=500 \n",
      "[CV]  max_depth=10, max_features=4, learning_rate=0.1, n_estimators=600, score=0.345912 -  11.1s\n",
      "[CV] max_depth=10, max_features=6, learning_rate=0.1, n_estimators=500 \n",
      "[CV]  max_depth=10, max_features=4, learning_rate=0.1, n_estimators=600, score=0.251572 -   8.7s\n",
      "[CV] max_depth=10, max_features=6, learning_rate=0.1, n_estimators=500 \n",
      "[CV]  max_depth=10, max_features=4, learning_rate=0.1, n_estimators=600, score=0.316456 -   9.3s\n",
      "[CV] max_depth=10, max_features=6, learning_rate=0.1, n_estimators=500 \n",
      "[CV]  max_depth=10, max_features=6, learning_rate=0.1, n_estimators=500, score=0.402516 -   9.0s\n",
      "[CV] max_depth=10, max_features=6, learning_rate=0.1, n_estimators=500 \n",
      "[CV]  max_depth=10, max_features=6, learning_rate=0.1, n_estimators=500, score=0.352201 -   8.8s\n",
      "[CV] max_depth=10, max_features=6, learning_rate=0.1, n_estimators=600 \n",
      "[CV]  max_depth=10, max_features=6, learning_rate=0.1, n_estimators=500, score=0.364780 -   9.2s\n",
      "[CV] max_depth=10, max_features=6, learning_rate=0.1, n_estimators=600 \n",
      "[CV]  max_depth=10, max_features=6, learning_rate=0.1, n_estimators=500, score=0.276730 -   8.3s\n",
      "[CV] max_depth=10, max_features=6, learning_rate=0.1, n_estimators=600 \n",
      "[CV]  max_depth=10, max_features=6, learning_rate=0.1, n_estimators=500, score=0.341772 -   9.1s\n",
      "[CV] max_depth=10, max_features=6, learning_rate=0.1, n_estimators=600 \n",
      "[CV]  max_depth=10, max_features=6, learning_rate=0.1, n_estimators=600, score=0.408805 -   9.5s\n",
      "[CV] max_depth=10, max_features=6, learning_rate=0.1, n_estimators=600 \n",
      "[CV]  max_depth=10, max_features=6, learning_rate=0.1, n_estimators=600, score=0.339623 -   9.1s\n",
      "[CV] max_depth=12, max_features=2, learning_rate=0.1, n_estimators=500 \n",
      "[CV]  max_depth=10, max_features=6, learning_rate=0.1, n_estimators=600, score=0.371069 -   9.6s\n",
      "[CV] max_depth=12, max_features=2, learning_rate=0.1, n_estimators=500 \n",
      "[CV]  max_depth=10, max_features=6, learning_rate=0.1, n_estimators=600, score=0.264151 -   8.4s\n",
      "[CV] max_depth=12, max_features=2, learning_rate=0.1, n_estimators=500 \n",
      "[CV]  max_depth=10, max_features=6, learning_rate=0.1, n_estimators=600, score=0.316456 -   9.5s\n",
      "[CV] max_depth=12, max_features=2, learning_rate=0.1, n_estimators=500 \n",
      "[CV]  max_depth=12, max_features=2, learning_rate=0.1, n_estimators=500, score=0.358491 -   9.1s\n",
      "[CV] max_depth=12, max_features=2, learning_rate=0.1, n_estimators=500 \n",
      "[CV]  max_depth=12, max_features=2, learning_rate=0.1, n_estimators=500, score=0.308176 -   8.5s\n",
      "[CV] max_depth=12, max_features=2, learning_rate=0.1, n_estimators=600 \n",
      "[CV]  max_depth=12, max_features=2, learning_rate=0.1, n_estimators=500, score=0.327044 -   8.9s\n",
      "[CV] max_depth=12, max_features=2, learning_rate=0.1, n_estimators=600 \n",
      "[CV]  max_depth=12, max_features=2, learning_rate=0.1, n_estimators=500, score=0.283019 -   7.7s\n",
      "[CV] max_depth=12, max_features=2, learning_rate=0.1, n_estimators=600 \n",
      "[CV]  max_depth=12, max_features=2, learning_rate=0.1, n_estimators=500, score=0.310127 -   9.1s\n",
      "[CV] max_depth=12, max_features=2, learning_rate=0.1, n_estimators=600 \n",
      "[CV]  max_depth=12, max_features=2, learning_rate=0.1, n_estimators=600, score=0.358491 -   9.3s\n",
      "[CV] max_depth=12, max_features=2, learning_rate=0.1, n_estimators=600 \n",
      "[CV]  max_depth=12, max_features=2, learning_rate=0.1, n_estimators=600, score=0.301887 -   9.1s\n",
      "[CV] max_depth=12, max_features=4, learning_rate=0.1, n_estimators=500 \n",
      "[CV]  max_depth=12, max_features=2, learning_rate=0.1, n_estimators=600, score=0.352201 -   9.7s\n",
      "[CV] max_depth=12, max_features=4, learning_rate=0.1, n_estimators=500 \n",
      "[CV]  max_depth=12, max_features=2, learning_rate=0.1, n_estimators=600, score=0.270440 -   8.5s\n",
      "[CV] max_depth=12, max_features=4, learning_rate=0.1, n_estimators=500 \n",
      "[CV]  max_depth=12, max_features=2, learning_rate=0.1, n_estimators=600, score=0.291139 -   9.9s\n",
      "[CV] max_depth=12, max_features=4, learning_rate=0.1, n_estimators=500 \n",
      "[CV]  max_depth=12, max_features=4, learning_rate=0.1, n_estimators=500, score=0.377358 -   9.1s\n",
      "[CV] max_depth=12, max_features=4, learning_rate=0.1, n_estimators=500 \n",
      "[CV]  max_depth=12, max_features=4, learning_rate=0.1, n_estimators=500, score=0.333333 -   8.8s\n",
      "[CV] max_depth=12, max_features=4, learning_rate=0.1, n_estimators=600 \n",
      "[CV]  max_depth=12, max_features=4, learning_rate=0.1, n_estimators=500, score=0.345912 -   9.0s\n",
      "[CV] max_depth=12, max_features=4, learning_rate=0.1, n_estimators=600 \n",
      "[CV]  max_depth=12, max_features=4, learning_rate=0.1, n_estimators=500, score=0.283019 -   7.8s\n",
      "[CV] max_depth=12, max_features=4, learning_rate=0.1, n_estimators=600 \n",
      "[CV]  max_depth=12, max_features=4, learning_rate=0.1, n_estimators=500, score=0.322785 -   9.1s\n",
      "[CV] max_depth=12, max_features=4, learning_rate=0.1, n_estimators=600 \n",
      "[CV]  max_depth=12, max_features=4, learning_rate=0.1, n_estimators=600, score=0.352201 -   9.6s\n",
      "[CV] max_depth=12, max_features=4, learning_rate=0.1, n_estimators=600 \n",
      "[CV]  max_depth=12, max_features=4, learning_rate=0.1, n_estimators=600, score=0.320755 -   8.9s\n",
      "[CV] max_depth=12, max_features=6, learning_rate=0.1, n_estimators=500 \n",
      "[CV]  max_depth=12, max_features=4, learning_rate=0.1, n_estimators=600, score=0.333333 -   9.5s\n",
      "[CV] max_depth=12, max_features=6, learning_rate=0.1, n_estimators=500 \n",
      "[CV]  max_depth=12, max_features=4, learning_rate=0.1, n_estimators=600, score=0.257862 -   9.2s\n",
      "[CV] max_depth=12, max_features=6, learning_rate=0.1, n_estimators=500 \n",
      "[CV]  max_depth=12, max_features=4, learning_rate=0.1, n_estimators=600, score=0.329114 -  10.7s\n",
      "[CV] max_depth=12, max_features=6, learning_rate=0.1, n_estimators=500 \n",
      "[CV]  max_depth=12, max_features=6, learning_rate=0.1, n_estimators=500, score=0.377358 -  10.7s\n",
      "[CV] max_depth=12, max_features=6, learning_rate=0.1, n_estimators=500 \n",
      "[CV]  max_depth=12, max_features=6, learning_rate=0.1, n_estimators=500, score=0.364780 -  10.0s\n",
      "[CV] max_depth=12, max_features=6, learning_rate=0.1, n_estimators=600 \n",
      "[CV]  max_depth=12, max_features=6, learning_rate=0.1, n_estimators=500, score=0.345912 -   9.5s\n",
      "[CV] max_depth=12, max_features=6, learning_rate=0.1, n_estimators=600 \n",
      "[CV]  max_depth=12, max_features=6, learning_rate=0.1, n_estimators=500, score=0.264151 -   7.9s\n",
      "[CV] max_depth=12, max_features=6, learning_rate=0.1, n_estimators=600 \n",
      "[CV]  max_depth=12, max_features=6, learning_rate=0.1, n_estimators=500, score=0.310127 -   9.5s\n",
      "[CV] max_depth=12, max_features=6, learning_rate=0.1, n_estimators=600 \n",
      "[CV]  max_depth=12, max_features=6, learning_rate=0.1, n_estimators=600, score=0.389937 -  10.0s\n",
      "[CV] max_depth=12, max_features=6, learning_rate=0.1, n_estimators=600 \n",
      "[CV]  max_depth=12, max_features=6, learning_rate=0.1, n_estimators=600, score=0.327044 -   9.4s\n",
      "[CV] max_depth=5, max_features=2, learning_rate=0.5, n_estimators=500 \n",
      "[CV]  max_depth=5, max_features=2, learning_rate=0.5, n_estimators=500, score=0.377358 -   1.9s\n",
      "[CV] max_depth=5, max_features=2, learning_rate=0.5, n_estimators=500 \n",
      "[CV]  max_depth=12, max_features=6, learning_rate=0.1, n_estimators=600, score=0.364780 -  10.0s\n",
      "[CV] max_depth=5, max_features=2, learning_rate=0.5, n_estimators=500 \n",
      "[CV]  max_depth=12, max_features=6, learning_rate=0.1, n_estimators=600, score=0.289308 -   8.4s\n",
      "[CV] max_depth=5, max_features=2, learning_rate=0.5, n_estimators=500 \n",
      "[CV]  max_depth=5, max_features=2, learning_rate=0.5, n_estimators=500, score=0.377358 -   2.0s\n",
      "[CV] max_depth=5, max_features=2, learning_rate=0.5, n_estimators=500 \n",
      "[CV]  max_depth=5, max_features=2, learning_rate=0.5, n_estimators=500, score=0.389937 -   2.0s\n",
      "[CV] max_depth=5, max_features=2, learning_rate=0.5, n_estimators=600 \n",
      "[CV]  max_depth=5, max_features=2, learning_rate=0.5, n_estimators=500, score=0.289308 -   2.0s\n",
      "[CV] max_depth=5, max_features=2, learning_rate=0.5, n_estimators=600 \n",
      "[CV]  max_depth=5, max_features=2, learning_rate=0.5, n_estimators=500, score=0.278481 -   2.0s\n",
      "[CV] max_depth=5, max_features=2, learning_rate=0.5, n_estimators=600 \n",
      "[CV]  max_depth=12, max_features=6, learning_rate=0.1, n_estimators=600, score=0.335443 -  10.5s\n",
      "[CV] max_depth=5, max_features=2, learning_rate=0.5, n_estimators=600 \n",
      "[CV]  max_depth=5, max_features=2, learning_rate=0.5, n_estimators=600, score=0.383648 -   2.4s\n",
      "[CV] max_depth=5, max_features=2, learning_rate=0.5, n_estimators=600 \n",
      "[CV]  max_depth=5, max_features=2, learning_rate=0.5, n_estimators=600, score=0.377358 -   2.4s\n",
      "[CV] max_depth=5, max_features=4, learning_rate=0.5, n_estimators=500 \n",
      "[CV]  max_depth=5, max_features=2, learning_rate=0.5, n_estimators=600, score=0.383648 -   2.4s\n",
      "[CV] max_depth=5, max_features=4, learning_rate=0.5, n_estimators=500 \n",
      "[CV]  max_depth=5, max_features=2, learning_rate=0.5, n_estimators=600, score=0.301887 -   2.5s\n",
      "[CV] max_depth=5, max_features=4, learning_rate=0.5, n_estimators=500 \n",
      "[CV]  max_depth=5, max_features=2, learning_rate=0.5, n_estimators=600, score=0.297468 -   2.4s\n",
      "[CV] max_depth=5, max_features=4, learning_rate=0.5, n_estimators=500 \n",
      "[CV]  max_depth=5, max_features=4, learning_rate=0.5, n_estimators=500, score=0.396226 -   2.3s\n",
      "[CV] max_depth=5, max_features=4, learning_rate=0.5, n_estimators=500 \n",
      "[CV]  max_depth=5, max_features=4, learning_rate=0.5, n_estimators=500, score=0.345912 -   2.3s\n",
      "[CV] max_depth=5, max_features=4, learning_rate=0.5, n_estimators=600 \n",
      "[CV]  max_depth=5, max_features=4, learning_rate=0.5, n_estimators=500, score=0.371069 -   2.3s\n",
      "[CV] max_depth=5, max_features=4, learning_rate=0.5, n_estimators=600 \n",
      "[CV]  max_depth=5, max_features=4, learning_rate=0.5, n_estimators=500, score=0.308176 -   2.3s\n",
      "[CV]  max_depth=5, max_features=4, learning_rate=0.5, n_estimators=500, score=0.316456 -   2.3s\n",
      "[CV] max_depth=5, max_features=4, learning_rate=0.5, n_estimators=600 \n",
      "[CV] max_depth=5, max_features=4, learning_rate=0.5, n_estimators=600 \n",
      "[CV]  max_depth=5, max_features=4, learning_rate=0.5, n_estimators=600, score=0.415094 -   2.5s\n",
      "[CV] max_depth=5, max_features=4, learning_rate=0.5, n_estimators=600 \n",
      "[CV]  max_depth=5, max_features=4, learning_rate=0.5, n_estimators=600, score=0.320755 -   2.5s\n",
      "[CV] max_depth=5, max_features=6, learning_rate=0.5, n_estimators=500 \n",
      "[CV]  max_depth=5, max_features=4, learning_rate=0.5, n_estimators=600, score=0.314465 -   2.5s\n",
      "[CV]  max_depth=5, max_features=4, learning_rate=0.5, n_estimators=600, score=0.389937 -   2.6s\n",
      "[CV] max_depth=5, max_features=6, learning_rate=0.5, n_estimators=500 \n",
      "[CV] max_depth=5, max_features=6, learning_rate=0.5, n_estimators=500 \n",
      "[CV]  max_depth=5, max_features=4, learning_rate=0.5, n_estimators=600, score=0.310127 -   2.6s\n",
      "[CV] max_depth=5, max_features=6, learning_rate=0.5, n_estimators=500 \n",
      "[CV]  max_depth=5, max_features=6, learning_rate=0.5, n_estimators=500, score=0.408805 -   2.5s\n",
      "[CV] max_depth=5, max_features=6, learning_rate=0.5, n_estimators=500 \n",
      "[CV]  max_depth=5, max_features=6, learning_rate=0.5, n_estimators=500, score=0.371069 -   2.4s\n",
      "[CV] max_depth=5, max_features=6, learning_rate=0.5, n_estimators=600 \n",
      "[CV]  max_depth=5, max_features=6, learning_rate=0.5, n_estimators=500, score=0.358491 -   2.4s\n",
      "[CV] max_depth=5, max_features=6, learning_rate=0.5, n_estimators=600 \n",
      "[CV]  max_depth=5, max_features=6, learning_rate=0.5, n_estimators=500, score=0.339623 -   2.4s\n",
      "[CV] max_depth=5, max_features=6, learning_rate=0.5, n_estimators=600 \n",
      "[CV]  max_depth=5, max_features=6, learning_rate=0.5, n_estimators=500, score=0.297468 -   2.5s\n",
      "[CV] max_depth=5, max_features=6, learning_rate=0.5, n_estimators=600 \n",
      "[CV]  max_depth=5, max_features=6, learning_rate=0.5, n_estimators=600, score=0.415094 -   2.9s\n",
      "[CV]  max_depth=5, max_features=6, learning_rate=0.5, n_estimators=600, score=0.339623 -   2.8s\n",
      "[CV] max_depth=5, max_features=6, learning_rate=0.5, n_estimators=600 \n",
      "[CV] max_depth=10, max_features=2, learning_rate=0.5, n_estimators=500 \n",
      "[CV]  max_depth=5, max_features=6, learning_rate=0.5, n_estimators=600, score=0.383648 -   3.9s\n",
      "[CV] max_depth=10, max_features=2, learning_rate=0.5, n_estimators=500 \n",
      "[CV]  max_depth=5, max_features=6, learning_rate=0.5, n_estimators=600, score=0.333333 -   4.1s\n",
      "[CV] max_depth=10, max_features=2, learning_rate=0.5, n_estimators=500 \n",
      "[CV]  max_depth=5, max_features=6, learning_rate=0.5, n_estimators=600, score=0.291139 -   4.9s\n",
      "[CV] max_depth=10, max_features=2, learning_rate=0.5, n_estimators=500 \n"
     ]
    },
    {
     "name": "stderr",
     "output_type": "stream",
     "text": [
      "[Parallel(n_jobs=-1)]: Done 120 tasks      | elapsed:  3.1min\n"
     ]
    },
    {
     "name": "stdout",
     "output_type": "stream",
     "text": [
      "[CV]  max_depth=10, max_features=2, learning_rate=0.5, n_estimators=500, score=0.364780 -   5.4s\n",
      "[CV] max_depth=10, max_features=2, learning_rate=0.5, n_estimators=500 \n",
      "[CV]  max_depth=10, max_features=2, learning_rate=0.5, n_estimators=500, score=0.333333 -   4.4s\n",
      "[CV] max_depth=10, max_features=2, learning_rate=0.5, n_estimators=600 \n",
      "[CV]  max_depth=10, max_features=2, learning_rate=0.5, n_estimators=500, score=0.339623 -   4.5s\n",
      "[CV] max_depth=10, max_features=2, learning_rate=0.5, n_estimators=600 \n",
      "[CV]  max_depth=10, max_features=2, learning_rate=0.5, n_estimators=500, score=0.314465 -   2.8s\n",
      "[CV] max_depth=10, max_features=2, learning_rate=0.5, n_estimators=600 \n",
      "[CV]  max_depth=10, max_features=2, learning_rate=0.5, n_estimators=500, score=0.310127 -   3.7s\n",
      "[CV] max_depth=10, max_features=2, learning_rate=0.5, n_estimators=600 \n",
      "[CV]  max_depth=10, max_features=2, learning_rate=0.5, n_estimators=600, score=0.276730 -   2.6s\n",
      "[CV] max_depth=10, max_features=2, learning_rate=0.5, n_estimators=600 \n",
      "[CV]  max_depth=10, max_features=2, learning_rate=0.5, n_estimators=600, score=0.402516 -   3.4s\n",
      "[CV] max_depth=10, max_features=4, learning_rate=0.5, n_estimators=500 \n",
      "[CV]  max_depth=10, max_features=2, learning_rate=0.5, n_estimators=600, score=0.358491 -   3.0s\n",
      "[CV] max_depth=10, max_features=4, learning_rate=0.5, n_estimators=500 \n",
      "[CV]  max_depth=10, max_features=2, learning_rate=0.5, n_estimators=600, score=0.276730 -   1.9s\n",
      "[CV] max_depth=10, max_features=4, learning_rate=0.5, n_estimators=500 \n",
      "[CV]  max_depth=10, max_features=4, learning_rate=0.5, n_estimators=500, score=0.383648 -   2.5s\n",
      "[CV] max_depth=10, max_features=4, learning_rate=0.5, n_estimators=500 \n",
      "[CV]  max_depth=10, max_features=2, learning_rate=0.5, n_estimators=600, score=0.297468 -   3.3s\n",
      "[CV] max_depth=10, max_features=4, learning_rate=0.5, n_estimators=500 \n",
      "[CV]  max_depth=10, max_features=4, learning_rate=0.5, n_estimators=500, score=0.408805 -   3.3s\n",
      "[CV] max_depth=10, max_features=4, learning_rate=0.5, n_estimators=600 \n",
      "[CV]  max_depth=10, max_features=4, learning_rate=0.5, n_estimators=500, score=0.345912 -   2.9s\n",
      "[CV] max_depth=10, max_features=4, learning_rate=0.5, n_estimators=600 \n",
      "[CV]  max_depth=10, max_features=4, learning_rate=0.5, n_estimators=500, score=0.301887 -   1.8s\n",
      "[CV] max_depth=10, max_features=4, learning_rate=0.5, n_estimators=600 \n",
      "[CV]  max_depth=10, max_features=4, learning_rate=0.5, n_estimators=600, score=0.345912 -   2.9s\n",
      "[CV] max_depth=10, max_features=4, learning_rate=0.5, n_estimators=600 \n",
      "[CV]  max_depth=10, max_features=4, learning_rate=0.5, n_estimators=500, score=0.322785 -   3.4s\n",
      "[CV] max_depth=10, max_features=4, learning_rate=0.5, n_estimators=600 \n",
      "[CV]  max_depth=10, max_features=4, learning_rate=0.5, n_estimators=600, score=0.383648 -   3.8s\n",
      "[CV] max_depth=10, max_features=6, learning_rate=0.5, n_estimators=500 \n",
      "[CV]  max_depth=10, max_features=4, learning_rate=0.5, n_estimators=600, score=0.389937 -   3.4s\n",
      "[CV] max_depth=10, max_features=6, learning_rate=0.5, n_estimators=500 \n",
      "[CV]  max_depth=10, max_features=4, learning_rate=0.5, n_estimators=600, score=0.276730 -   1.9s\n",
      "[CV] max_depth=10, max_features=6, learning_rate=0.5, n_estimators=500 \n",
      "[CV]  max_depth=10, max_features=4, learning_rate=0.5, n_estimators=600, score=0.367089 -   3.6s\n",
      "[CV] max_depth=10, max_features=6, learning_rate=0.5, n_estimators=500 \n",
      "[CV]  max_depth=10, max_features=6, learning_rate=0.5, n_estimators=500, score=0.377358 -   3.5s\n",
      "[CV] max_depth=10, max_features=6, learning_rate=0.5, n_estimators=500 \n",
      "[CV]  max_depth=10, max_features=6, learning_rate=0.5, n_estimators=500, score=0.339623 -   2.9s\n",
      "[CV] max_depth=10, max_features=6, learning_rate=0.5, n_estimators=600 \n",
      "[CV]  max_depth=10, max_features=6, learning_rate=0.5, n_estimators=500, score=0.377358 -   3.3s\n",
      "[CV] max_depth=10, max_features=6, learning_rate=0.5, n_estimators=600 \n",
      "[CV]  max_depth=10, max_features=6, learning_rate=0.5, n_estimators=500, score=0.283019 -   2.0s\n",
      "[CV] max_depth=10, max_features=6, learning_rate=0.5, n_estimators=600 \n",
      "[CV]  max_depth=10, max_features=6, learning_rate=0.5, n_estimators=500, score=0.329114 -   3.7s\n",
      "[CV] max_depth=10, max_features=6, learning_rate=0.5, n_estimators=600 \n",
      "[CV]  max_depth=10, max_features=6, learning_rate=0.5, n_estimators=600, score=0.364780 -   3.2s\n",
      "[CV] max_depth=10, max_features=6, learning_rate=0.5, n_estimators=600 \n",
      "[CV]  max_depth=10, max_features=6, learning_rate=0.5, n_estimators=600, score=0.389937 -   4.1s\n",
      "[CV] max_depth=12, max_features=2, learning_rate=0.5, n_estimators=500 \n",
      "[CV]  max_depth=10, max_features=6, learning_rate=0.5, n_estimators=600, score=0.383648 -   3.7s\n",
      "[CV] max_depth=12, max_features=2, learning_rate=0.5, n_estimators=500 \n",
      "[CV]  max_depth=10, max_features=6, learning_rate=0.5, n_estimators=600, score=0.270440 -   2.0s\n",
      "[CV] max_depth=12, max_features=2, learning_rate=0.5, n_estimators=500 \n",
      "[CV]  max_depth=12, max_features=2, learning_rate=0.5, n_estimators=500, score=0.339623 -   2.4s\n",
      "[CV] max_depth=12, max_features=2, learning_rate=0.5, n_estimators=500 \n",
      "[CV]  max_depth=12, max_features=2, learning_rate=0.5, n_estimators=500, score=0.389937 -   3.2s\n",
      "[CV] max_depth=12, max_features=2, learning_rate=0.5, n_estimators=500 \n",
      "[CV]  max_depth=10, max_features=6, learning_rate=0.5, n_estimators=600, score=0.316456 -   4.1s\n",
      "[CV] max_depth=12, max_features=2, learning_rate=0.5, n_estimators=600 \n",
      "[CV]  max_depth=12, max_features=2, learning_rate=0.5, n_estimators=500, score=0.371069 -   3.0s\n",
      "[CV] max_depth=12, max_features=2, learning_rate=0.5, n_estimators=600 \n",
      "[CV]  max_depth=12, max_features=2, learning_rate=0.5, n_estimators=500, score=0.289308 -   1.9s\n",
      "[CV] max_depth=12, max_features=2, learning_rate=0.5, n_estimators=600 \n",
      "[CV]  max_depth=12, max_features=2, learning_rate=0.5, n_estimators=500, score=0.297468 -   3.2s\n",
      "[CV] max_depth=12, max_features=2, learning_rate=0.5, n_estimators=600 \n",
      "[CV]  max_depth=12, max_features=2, learning_rate=0.5, n_estimators=600, score=0.314465 -   2.7s\n",
      "[CV] max_depth=12, max_features=2, learning_rate=0.5, n_estimators=600 \n",
      "[CV]  max_depth=12, max_features=2, learning_rate=0.5, n_estimators=600, score=0.358491 -   3.5s\n",
      "[CV] max_depth=12, max_features=4, learning_rate=0.5, n_estimators=500 \n",
      "[CV]  max_depth=12, max_features=2, learning_rate=0.5, n_estimators=600, score=0.339623 -   3.3s\n",
      "[CV] max_depth=12, max_features=4, learning_rate=0.5, n_estimators=500 \n",
      "[CV]  max_depth=12, max_features=2, learning_rate=0.5, n_estimators=600, score=0.264151 -   1.9s\n",
      "[CV] max_depth=12, max_features=4, learning_rate=0.5, n_estimators=500 \n",
      "[CV]  max_depth=12, max_features=2, learning_rate=0.5, n_estimators=600, score=0.316456 -   3.6s\n",
      "[CV] max_depth=12, max_features=4, learning_rate=0.5, n_estimators=500 \n",
      "[CV]  max_depth=12, max_features=4, learning_rate=0.5, n_estimators=500, score=0.389937 -   3.5s\n",
      "[CV] max_depth=12, max_features=4, learning_rate=0.5, n_estimators=500 \n",
      "[CV]  max_depth=12, max_features=4, learning_rate=0.5, n_estimators=500, score=0.352201 -   2.8s\n",
      "[CV] max_depth=12, max_features=4, learning_rate=0.5, n_estimators=600 \n",
      "[CV]  max_depth=12, max_features=4, learning_rate=0.5, n_estimators=500, score=0.371069 -   3.2s\n",
      "[CV] max_depth=12, max_features=4, learning_rate=0.5, n_estimators=600 \n",
      "[CV]  max_depth=12, max_features=4, learning_rate=0.5, n_estimators=500, score=0.339623 -   2.0s\n",
      "[CV] max_depth=12, max_features=4, learning_rate=0.5, n_estimators=600 \n",
      "[CV]  max_depth=12, max_features=4, learning_rate=0.5, n_estimators=500, score=0.316456 -   3.5s\n",
      "[CV] max_depth=12, max_features=4, learning_rate=0.5, n_estimators=600 \n",
      "[CV]  max_depth=12, max_features=4, learning_rate=0.5, n_estimators=600, score=0.352201 -   3.0s\n",
      "[CV] max_depth=12, max_features=4, learning_rate=0.5, n_estimators=600 \n",
      "[CV]  max_depth=12, max_features=4, learning_rate=0.5, n_estimators=600, score=0.383648 -   4.0s\n",
      "[CV] max_depth=12, max_features=6, learning_rate=0.5, n_estimators=500 \n",
      "[CV]  max_depth=12, max_features=4, learning_rate=0.5, n_estimators=600, score=0.371069 -   3.5s\n",
      "[CV] max_depth=12, max_features=6, learning_rate=0.5, n_estimators=500 \n",
      "[CV]  max_depth=12, max_features=4, learning_rate=0.5, n_estimators=600, score=0.283019 -   1.9s\n",
      "[CV] max_depth=12, max_features=6, learning_rate=0.5, n_estimators=500 \n",
      "[CV]  max_depth=12, max_features=4, learning_rate=0.5, n_estimators=600, score=0.297468 -   3.8s\n",
      "[CV] max_depth=12, max_features=6, learning_rate=0.5, n_estimators=500 \n",
      "[CV]  max_depth=12, max_features=6, learning_rate=0.5, n_estimators=500, score=0.339623 -   3.0s\n",
      "[CV] max_depth=12, max_features=6, learning_rate=0.5, n_estimators=500 \n",
      "[CV]  max_depth=12, max_features=6, learning_rate=0.5, n_estimators=500, score=0.396226 -   3.9s\n",
      "[CV] max_depth=12, max_features=6, learning_rate=0.5, n_estimators=600 \n",
      "[CV]  max_depth=12, max_features=6, learning_rate=0.5, n_estimators=500, score=0.396226 -   3.5s\n",
      "[CV] max_depth=12, max_features=6, learning_rate=0.5, n_estimators=600 \n",
      "[CV]  max_depth=12, max_features=6, learning_rate=0.5, n_estimators=500, score=0.295597 -   1.9s\n",
      "[CV] max_depth=12, max_features=6, learning_rate=0.5, n_estimators=600 \n",
      "[CV]  max_depth=12, max_features=6, learning_rate=0.5, n_estimators=500, score=0.316456 -   3.9s\n",
      "[CV] max_depth=12, max_features=6, learning_rate=0.5, n_estimators=600 \n",
      "[CV]  max_depth=12, max_features=6, learning_rate=0.5, n_estimators=600, score=0.358491 -   3.5s\n",
      "[CV] max_depth=12, max_features=6, learning_rate=0.5, n_estimators=600 \n",
      "[CV]  max_depth=12, max_features=6, learning_rate=0.5, n_estimators=600, score=0.377358 -   4.5s\n",
      "[CV]  max_depth=12, max_features=6, learning_rate=0.5, n_estimators=600, score=0.396226 -   3.9s\n",
      "[CV]  max_depth=12, max_features=6, learning_rate=0.5, n_estimators=600, score=0.289308 -   1.8s\n",
      "[CV]  max_depth=12, max_features=6, learning_rate=0.5, n_estimators=600, score=0.322785 -   3.0s\n"
     ]
    },
    {
     "name": "stderr",
     "output_type": "stream",
     "text": [
      "[Parallel(n_jobs=-1)]: Done 180 out of 180 | elapsed:  3.9min finished\n"
     ]
    }
   ],
   "source": [
    "gb_output = gs_gb(X_train_original,y_train_original)"
   ]
  },
  {
   "cell_type": "code",
   "execution_count": 23,
   "metadata": {
    "collapsed": false
   },
   "outputs": [
    {
     "data": {
      "text/plain": [
       "[0.3551229202632381,\n",
       " {'learning_rate': 0.5,\n",
       "  'max_depth': 5,\n",
       "  'max_features': 6,\n",
       "  'n_estimators': 500}]"
      ]
     },
     "execution_count": 23,
     "metadata": {},
     "output_type": "execute_result"
    }
   ],
   "source": [
    "gb_output"
   ]
  },
  {
   "cell_type": "markdown",
   "metadata": {},
   "source": [
    "# Gradient Boosting Classifier"
   ]
  },
  {
   "cell_type": "code",
   "execution_count": 41,
   "metadata": {
    "collapsed": true
   },
   "outputs": [],
   "source": [
    "def fit_model(model,features,X_train,y_train,X_test,y_test):\n",
    "    \"Fit Model --- Return Evaluation Metrics\"\n",
    "    \n",
    "    model = model.fit(X_train, y_train)\n",
    "    train_pred = model.predict(X_train)\n",
    "    test_pred = model.predict(X_test)\n",
    "    prob = model.predict_proba(X_test)\n",
    "    \n",
    "    print(str(model).split('(')[0],':')\n",
    "    print('Train | Accuracy:', round(accuracy_score(y_train, train_pred),3),\n",
    "          '| Recall',round(recall_score(y_train, train_pred),3),\n",
    "          '| Precision',round(precision_score(y_train, train_pred),3),\n",
    "          '| f1',round(f1_score(y_train, train_pred),3))\n",
    "\n",
    "    print('Test | Accuracy:', round(accuracy_score(y_test, test_pred),3),\n",
    "          '| Recall',round(recall_score(y_test, test_pred),3),\n",
    "          '| Precision',round(precision_score(y_test, test_pred),3),\n",
    "          '| f1',round(f1_score(y_test, test_pred),3))\n",
    "#     if model == \"ada\":\n",
    "    feature_importances = model.feature_importances_\n",
    "    feature_indices = np.argsort(feature_importances)[::-1]\n",
    "    print(' ')\n",
    "    print('Features Importance Order')\n",
    "    for f,index in enumerate(feature_indices):\n",
    "        print(\"%2d) %-*s %f\" % (f + 1, 30,features[index], feature_importances[index]))\n",
    "    return test_pred, prob[:,1]"
   ]
  },
  {
   "cell_type": "code",
   "execution_count": 25,
   "metadata": {
    "collapsed": true
   },
   "outputs": [],
   "source": [
    "def plot_roc(y_test, pred_test):\n",
    "    fpr, tpr, _= roc_curve(y_test, pred_test)\n",
    "    roc_auc = auc(fpr,tpr)\n",
    "    plt.plot(fpr,tpr, label = 'area %.2f' %roc_auc)\n",
    "    plt.plot(np.linspace(0,1,10),np.linspace(0,1,10))\n",
    "    plt.xlim([-0.05,1.05])\n",
    "    plt.ylim([-0.05,1.05])\n",
    "    plt.legend(loc = 'lower right')\n",
    "    plt.show()"
   ]
  },
  {
   "cell_type": "code",
   "execution_count": 26,
   "metadata": {
    "collapsed": true
   },
   "outputs": [],
   "source": [
    "logit = LogisticRegression(C = 1, penalty = 'l2')"
   ]
  },
  {
   "cell_type": "code",
   "execution_count": 27,
   "metadata": {
    "collapsed": false
   },
   "outputs": [],
   "source": [
    "gradboost = GradientBoostingClassifier(learning_rate= 0.5, n_estimators = 500, \\\n",
    "                                       max_features = 6, max_depth = 5)"
   ]
  },
  {
   "cell_type": "code",
   "execution_count": 28,
   "metadata": {
    "collapsed": true
   },
   "outputs": [],
   "source": [
    "features = data.columns.tolist()\n",
    "features.remove('readmit30')"
   ]
  },
  {
   "cell_type": "markdown",
   "metadata": {},
   "source": [
    "# Results"
   ]
  },
  {
   "cell_type": "code",
   "execution_count": 42,
   "metadata": {
    "collapsed": false,
    "scrolled": true
   },
   "outputs": [
    {
     "name": "stdout",
     "output_type": "stream",
     "text": [
      "GradientBoostingClassifier :\n",
      "Train | Accuracy: 0.999 | Recall 0.997 | Precision 0.999 | f1 0.998\n",
      "Test | Accuracy: 0.751 | Recall 0.412 | Precision 0.462 | f1 0.435\n",
      " \n",
      "Features Importance Order\n",
      " 1) comorbidity_score              0.367300\n",
      " 2) severity_score                 0.285188\n",
      " 3) age                            0.239973\n",
      " 4) female                         0.045196\n",
      " 5) flu_season                     0.043148\n",
      " 6) ed_admit                       0.019195\n"
     ]
    }
   ],
   "source": [
    "gradboost_pred,gradboost_prob = fit_model(gradboost,features,X_train_original,y_train_original,X_test_original,y_test_original) #2:10"
   ]
  },
  {
   "cell_type": "code",
   "execution_count": 30,
   "metadata": {
    "collapsed": false
   },
   "outputs": [
    {
     "name": "stdout",
     "output_type": "stream",
     "text": [
      "LogisticRegression :\n",
      "Train | Accuracy: 0.806 | Recall 0.312 | Precision 0.651 | f1 0.422\n",
      "Test | Accuracy: 0.805 | Recall 0.314 | Precision 0.674 | f1 0.428\n"
     ]
    }
   ],
   "source": [
    "logit_pred, logit_prob = fit_model(logit,features,X_train_original,y_train_original,X_test_original,y_test_original) #2:10"
   ]
  },
  {
   "cell_type": "code",
   "execution_count": 31,
   "metadata": {
    "collapsed": false
   },
   "outputs": [],
   "source": [
    "gradboost_confusion = confusion_matrix(y_test_original, gradboost_pred )\n",
    "logit_confusion  = confusion_matrix(y_test_original, logit_pred )"
   ]
  },
  {
   "cell_type": "markdown",
   "metadata": {},
   "source": [
    "# Confusion Matrix"
   ]
  },
  {
   "cell_type": "markdown",
   "metadata": {},
   "source": [
    "# Logistic Regression"
   ]
  },
  {
   "cell_type": "code",
   "execution_count": 55,
   "metadata": {
    "collapsed": false,
    "scrolled": false
   },
   "outputs": [
    {
     "data": {
      "image/png": "[encoded data removed]",
      "text/plain": [
       "<matplotlib.figure.Figure at 0x118e1e5f8>"
      ]
     },
     "metadata": {},
     "output_type": "display_data"
    }
   ],
   "source": [
    "show_confusion_matrix(logit_confusion,class_labels=[\"Non-readmitted\", \"Readmitted\"])"
   ]
  },
  {
   "cell_type": "markdown",
   "metadata": {},
   "source": [
    "# Gradient Boost Classifier"
   ]
  },
  {
   "cell_type": "code",
   "execution_count": 54,
   "metadata": {
    "collapsed": false
   },
   "outputs": [
    {
     "data": {
      "image/png": "[encoded data removed]",
      "text/plain": [
       "<matplotlib.figure.Figure at 0x118817cf8>"
      ]
     },
     "metadata": {},
     "output_type": "display_data"
    }
   ],
   "source": [
    "show_confusion_matrix(gradboost_confusion,class_labels=[\"Non-readmitted\", \"Readmitted\"])"
   ]
  },
  {
   "cell_type": "markdown",
   "metadata": {},
   "source": [
    "The winner is Gradient Boosting which has a higher recall rate ( which means lower false negative ). In this case, the readmitted patients that we false to detect will cause the hospital to break the readmission limit rate and costs higher penalties. Therefore, instead of accuracy score, we use recall rate to evaluate each algorithms."
   ]
  },
  {
   "cell_type": "markdown",
   "metadata": {
    "collapsed": true
   },
   "source": [
    "# Calculate Cost and Benefits of the presense of CareTracker"
   ]
  },
  {
   "cell_type": "markdown",
   "metadata": {},
   "source": [
    "Without caretracker, if the hospital applies Logistic Regression Classier in its system, the chance "
   ]
  },
  {
   "cell_type": "code",
   "execution_count": 53,
   "metadata": {
    "collapsed": false,
    "scrolled": false
   },
   "outputs": [
    {
     "name": "stdout",
     "output_type": "stream",
     "text": [
      "Without caretracker, it costs $ 4710559.999999999\n"
     ]
    }
   ],
   "source": [
    "# false negative - number of readmitted patients that the model missed \n",
    "# recall rate: 0.41 - be able to detect 40% of readmitted patients \n",
    "without_caretracker =(0.59 * 998 ) * 8000\n",
    "print(\"Without caretracker, it costs $\",without_caretracker)"
   ]
  },
  {
   "cell_type": "code",
   "execution_count": 54,
   "metadata": {
    "collapsed": false,
    "scrolled": true
   },
   "outputs": [
    {
     "data": {
      "text/plain": [
       "409.17999999999995"
      ]
     },
     "execution_count": 54,
     "metadata": {},
     "output_type": "execute_result"
    }
   ],
   "source": [
    "#caretracker patients : recall rate x number of readmitted patients\n",
    "caretracker_patients = (0.41 * 998) \n",
    "caretracker_patients"
   ]
  },
  {
   "cell_type": "code",
   "execution_count": 55,
   "metadata": {
    "collapsed": false
   },
   "outputs": [
    {
     "name": "stdout",
     "output_type": "stream",
     "text": [
      "With caretracker, it costs $ 7245479.999999999\n"
     ]
    }
   ],
   "source": [
    "caretracker_cost = (caretracker_patients * 1200) \n",
    "caretracker_penalty = (((caretracker_patients * 0.6) +(998 * 0.6)) * 8000 )\n",
    "caretracker_total_cost = caretracker_cost + caretracker_penalty\n",
    "print(\"With caretracker, it costs $\",caretracker_total_cost)"
   ]
  },
  {
   "cell_type": "code",
   "execution_count": 56,
   "metadata": {
    "collapsed": false,
    "scrolled": false
   },
   "outputs": [
    {
     "name": "stdout",
     "output_type": "stream",
     "text": [
      "The maximum penalty cost until implementing care tracker would save more money: 0.62\n"
     ]
    }
   ],
   "source": [
    "print(\"The maximum penalty cost until implementing care tracker would save more money:\",\\\n",
    "      round((without_caretracker - caretracker_cost )/(caretracker_penalty),2))"
   ]
  },
  {
   "cell_type": "code",
   "execution_count": 63,
   "metadata": {
    "collapsed": false,
    "scrolled": true
   },
   "outputs": [],
   "source": [
    "readmitted_patients = arange(200,1400,200)\n",
    "without_caretracker = [i * 0.59 * 8000 for i in readmitted_patients]\n",
    "caretracker_penalty = arange(0,12000,2000) \n",
    "caretracker_fee = [1200]* 6\n",
    "with_caretracker = (readmitted_patients * 0.4 * caretracker_fee) + (((readmitted_patients * 0.6 )+ (readmitted_patients*0.4*0.6))*caretracker_penalty)"
   ]
  },
  {
   "cell_type": "code",
   "execution_count": 68,
   "metadata": {
    "collapsed": false
   },
   "outputs": [
    {
     "data": {
      "text/html": [
       "<div>\n",
       "<table border=\"1\" class=\"dataframe\">\n",
       "  <thead>\n",
       "    <tr style=\"text-align: right;\">\n",
       "      <th></th>\n",
       "      <th>penalty</th>\n",
       "      <th>n_readmitted</th>\n",
       "    </tr>\n",
       "  </thead>\n",
       "  <tbody>\n",
       "    <tr>\n",
       "      <th>0</th>\n",
       "      <td>0</td>\n",
       "      <td>200</td>\n",
       "    </tr>\n",
       "    <tr>\n",
       "      <th>1</th>\n",
       "      <td>2000</td>\n",
       "      <td>400</td>\n",
       "    </tr>\n",
       "    <tr>\n",
       "      <th>2</th>\n",
       "      <td>4000</td>\n",
       "      <td>600</td>\n",
       "    </tr>\n",
       "    <tr>\n",
       "      <th>3</th>\n",
       "      <td>6000</td>\n",
       "      <td>800</td>\n",
       "    </tr>\n",
       "    <tr>\n",
       "      <th>4</th>\n",
       "      <td>8000</td>\n",
       "      <td>1000</td>\n",
       "    </tr>\n",
       "    <tr>\n",
       "      <th>5</th>\n",
       "      <td>10000</td>\n",
       "      <td>1200</td>\n",
       "    </tr>\n",
       "  </tbody>\n",
       "</table>\n",
       "</div>"
      ],
      "text/plain": [
       "   penalty  n_readmitted\n",
       "0        0           200\n",
       "1     2000           400\n",
       "2     4000           600\n",
       "3     6000           800\n",
       "4     8000          1000\n",
       "5    10000          1200"
      ]
     },
     "execution_count": 68,
     "metadata": {},
     "output_type": "execute_result"
    }
   ],
   "source": [
    "pd.DataFrame(np.stack((caretracker_penalty,readmitted_patients),axis = -1), columns = ['penalty','n_readmitted'])"
   ]
  },
  {
   "cell_type": "code",
   "execution_count": 49,
   "metadata": {
    "collapsed": false
   },
   "outputs": [],
   "source": [
    "cost_of_rap = pd.DataFrame(np.stack((without_caretracker,with_caretracker),axis = -1)\\\n",
    "                           ,columns =['Model only','Model-CareTracker'])\n",
    "cost_of_rap.index = arange(200,1400,200).tolist()\n",
    "cost_of_rap = cost_of_rap/1000000\n",
    "cost_of_rap"
   ]
  },
  {
   "cell_type": "code",
   "execution_count": 50,
   "metadata": {
    "collapsed": false
   },
   "outputs": [
    {
     "data": {
      "text/plain": [
       "<matplotlib.text.Text at 0x112ffab70>"
      ]
     },
     "execution_count": 50,
     "metadata": {},
     "output_type": "execute_result"
    },
    {
     "data": {
      "image/png": "[encoded data removed]",
      "text/plain": [
       "<matplotlib.figure.Figure at 0x112f8b6a0>"
      ]
     },
     "metadata": {},
     "output_type": "display_data"
    }
   ],
   "source": [
    "cost_of_rap.plot(figsize=(12, 6))\n",
    "plt.title(\"Cost of Readmission Patients\", fontsize=20)\n",
    "plt.xlabel('Number of Readmitted Patients', fontsize=18)\n",
    "plt.ylabel('Cost(in millions)', fontsize=18)"
   ]
  },
  {
   "cell_type": "markdown",
   "metadata": {},
   "source": [
    "# Conclusion\n",
    "** If the number of readmitted patients exceeds 700 people, we should consider without caretracker, since we have to pay fees for all the patients we predicted to be readmitted. Even after being enrolled in the program, 60% of them will be readmitted, which we will suffer the penalty for, and in addition of the cost of 60% of false negative rate, readmitted patients that we mislabeled. **\n",
    "\n",
    "\n",
    "**Assumption**: \n",
    "\n",
    "**\"With CareTracker\"**,I give no penalty if number of readmitted patients are below 200. For an increase of 200 readmitted patients, the cost of penalty/readmitted patient is increased by 2000.\n",
    "\n",
    "**\"Without CareTracker\"**: To be conservative, I used the penalty of $8000 per readmitted patients. So if we manage to reduce the number of readmitted patients, then the extra will be savings.\n",
    "\n"
   ]
  },
  {
   "cell_type": "markdown",
   "metadata": {},
   "source": [
    "# Future Work\n",
    "\n",
    "With more data to feed into  classifiers, we expect to improve our recall rate.\n",
    "This leads to early detection of readmitted patients, in which we keep them longer for more tests/treatments and potentially reduce readmission rate. \n",
    "\n",
    "Further analysis on the cost of CareTracker program and the cost of follow-up and/or keeping the patients for more labs and checkup.\n",
    "\n",
    "\n",
    "Update the penalty for different number of readmitted patients.\n",
    "\n"
   ]
  },
  {
   "cell_type": "code",
   "execution_count": null,
   "metadata": {
    "collapsed": true
   },
   "outputs": [],
   "source": []
  }
 ],
 "metadata": {
  "anaconda-cloud": {},
  "kernelspec": {
   "display_name": "Python [Root]",
   "language": "python",
   "name": "Python [Root]"
  },
  "language_info": {
   "codemirror_mode": {
    "name": "ipython",
    "version": 3
   },
   "file_extension": ".py",
   "mimetype": "text/x-python",
   "name": "python",
   "nbconvert_exporter": "python",
   "pygments_lexer": "ipython3",
   "version": "3.5.2"
  }
 },
 "nbformat": 4,
 "nbformat_minor": 0
}
